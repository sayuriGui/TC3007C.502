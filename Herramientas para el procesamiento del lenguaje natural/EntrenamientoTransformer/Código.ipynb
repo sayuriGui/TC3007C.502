{
 "cells": [
  {
   "cell_type": "markdown",
   "id": "6da4567f-fde7-4e42-a22d-e31184cab262",
   "metadata": {},
   "source": [
    "# Entrenamiento de un transformer para Q&A\n",
    "Andrés Alejandro Guzmán González - A01633819\n",
    "\n",
    "Ernesto Reynoso Lizárraga - A01639915\n",
    "\n",
    "Joel Isaias Solano Ocampo - A01639289\n",
    "\n",
    "Tania Sayuri Guizado Hernández - A01640092"
   ]
  },
  {
   "cell_type": "code",
   "execution_count": 1,
   "id": "bedc12ac-d4c0-4d1b-8d5e-584f73b8e324",
   "metadata": {},
   "outputs": [],
   "source": [
    "# Librerías que se usaran en la actividad\n",
    "import ebooklib\n",
    "from ebooklib import epub\n",
    "from transformers import BertForQuestionAnswering, BertTokenizer\n",
    "import torch\n",
    "import warnings"
   ]
  },
  {
   "cell_type": "markdown",
   "id": "8adfc4f7-3f28-4015-86ec-f2b4919738aa",
   "metadata": {},
   "source": [
    "## 1.- Obtenga una base de conocimiento o Corpus con información técnica referente a su reto."
   ]
  },
  {
   "cell_type": "code",
   "execution_count": 2,
   "id": "924d54b7-1c73-463f-9757-dd5d9ab19546",
   "metadata": {},
   "outputs": [],
   "source": [
    "# Funcion para leer el contenido del archivo\n",
    "def read_file(file_path):\n",
    "    with open(file_path, 'r', encoding='utf-8') as file:\n",
    "        book_corpus = file.read()\n",
    "        return book_corpus"
   ]
  },
  {
   "cell_type": "code",
   "execution_count": 3,
   "id": "7e3345e7-f684-449e-add7-957ae6c29697",
   "metadata": {},
   "outputs": [],
   "source": [
    "# Directorio del corpus a usar\n",
    "corpus1 = read_file('Medical1.txt')\n",
    "corpus2 = read_file('Medical2.txt')\n",
    "corpus3 = read_file('Medical3.txt')\n",
    "corpus4 = read_file('Landmarks.txt')\n",
    "corpus5 = read_file('Echocardiography.txt')\n",
    "corpus6 = read_file('Echocardiography2.txt')\n",
    "corpus7 = read_file('Medical4.txt')\n",
    "corpus8 = read_file('Echocardiography3.txt')\n",
    "corpus9 = read_file('CNNs.txt')\n",
    "corpus10 = read_file('Segmentation.txt')"
   ]
  },
  {
   "cell_type": "markdown",
   "id": "8109c88d-9b38-465d-8469-2d399b0b78ad",
   "metadata": {},
   "source": [
    "## 2-. Utilizando un modelo previamente entrenado de “BertForQuestionAnswering”, administre como corpus el texto usado en las actividades anteriores o algún otro diferente. "
   ]
  },
  {
   "cell_type": "code",
   "execution_count": 4,
   "id": "f2aa443d-9ee7-4b8c-bb28-5d90b8db3ded",
   "metadata": {},
   "outputs": [
    {
     "name": "stderr",
     "output_type": "stream",
     "text": [
      "Some weights of BertForQuestionAnswering were not initialized from the model checkpoint at bert-base-uncased and are newly initialized: ['qa_outputs.weight', 'qa_outputs.bias']\n",
      "You should probably TRAIN this model on a down-stream task to be able to use it for predictions and inference.\n"
     ]
    }
   ],
   "source": [
    "# Cargar el modelo preentrenado y el tokenizador\n",
    "tokenizer = BertTokenizer.from_pretrained('bert-base-uncased')\n",
    "model = BertForQuestionAnswering.from_pretrained('bert-base-uncased')"
   ]
  },
  {
   "cell_type": "code",
   "execution_count": 5,
   "id": "edfb32fe-18e2-4905-a50e-bca1135bebad",
   "metadata": {},
   "outputs": [],
   "source": [
    "def answer_question(question, context):\n",
    "    # Tokenizar la entrada\n",
    "    inputs = tokenizer(question, context, return_tensors='pt')\n",
    "\n",
    "     # Realizar la inferencia\n",
    "    with torch.no_grad():\n",
    "        outputs = model(**inputs)\n",
    "\n",
    "    start_scores = outputs.start_logits\n",
    "    end_scores = outputs.end_logits\n",
    "\n",
    "    # Obtener los índices de inicio y fin con las puntuaciones más altas\n",
    "    start_index = torch.argmax(start_scores)\n",
    "    end_index = torch.argmax(end_scores) + 1\n",
    "\n",
    "    # Obtener la respuesta del contexto\n",
    "    answer_tokens = inputs['input_ids'][0][start_index:end_index]\n",
    "    answer = tokenizer.decode(answer_tokens, skip_special_tokens=True)\n",
    "    return answer"
   ]
  },
  {
   "cell_type": "markdown",
   "id": "491bf607-56fb-4756-a2b1-379afa88c35a",
   "metadata": {},
   "source": [
    "## 3-. Plantee 10 preguntas que el transformer debería de responder con respecto al corpus."
   ]
  },
  {
   "cell_type": "code",
   "execution_count": 6,
   "id": "7b408cde-ff14-4e9e-a8ab-b47a8387f575",
   "metadata": {},
   "outputs": [],
   "source": [
    "# Preguntas sobre el corpus\n",
    "question1 = \"What is medical image segmentation?\"\n",
    "question2 = \"What are the benefits of medical image segmentation? \"\n",
    "question3 = \"How does medical image segmentation work?\"\n",
    "question4 = \"What is Landmark Detection?\"\n",
    "question5 = \"Why do traditional segmentation methods often fall short?\"\n",
    "question6 = \"What is the primary challenge addressed by unsupervised domain adaptation in echocardiography datasets\"\n",
    "question7 = \"What are the Problems faced in medical image segmentation?\"\n",
    "question8 = \"What is an echocardiogram?\"\n",
    "question9 = \"How does Echo-ODE improve cardiac ultrasound video segmentation compared to previous methods?\"\n",
    "question10 = \"What is the rationale behind choosing the 17-segment model for echocardiographic examination of the left ventricle?\""
   ]
  },
  {
   "cell_type": "code",
   "execution_count": 7,
   "id": "eed7fac8-5b9c-464e-bfd0-bbf2e5e2b35a",
   "metadata": {},
   "outputs": [
    {
     "name": "stdout",
     "output_type": "stream",
     "text": [
      "Pregunta: What is medical image segmentation?\n",
      "Respuesta: \n"
     ]
    }
   ],
   "source": [
    "print(\"Pregunta:\", question1)\n",
    "print(\"Respuesta:\", answer_question(question1, corpus1))"
   ]
  },
  {
   "cell_type": "code",
   "execution_count": 8,
   "id": "4eaffeab-8fa8-4d0a-9c12-24ae18c6b70e",
   "metadata": {},
   "outputs": [
    {
     "name": "stdout",
     "output_type": "stream",
     "text": [
      "Pregunta: What are the benefits of medical image segmentation? \n",
      "Respuesta: \n"
     ]
    }
   ],
   "source": [
    "print(\"Pregunta:\", question2)\n",
    "print(\"Respuesta:\", answer_question(question2, corpus2))"
   ]
  },
  {
   "cell_type": "code",
   "execution_count": 9,
   "id": "fbb76e7f-81e5-4bea-8b95-89bc66816c4e",
   "metadata": {},
   "outputs": [
    {
     "name": "stdout",
     "output_type": "stream",
     "text": [
      "Pregunta: How does medical image segmentation work?\n",
      "Respuesta: manual options to paint on the data, or semi - automated operations such as thresholding and region growing. applications are also available for cardiovascular image segmentation, with particular options for working with different heart cases. for many cases using medical data, it may only be necessary to use a few segmentation tools. as previously noted, studying the placement of medical devices can involve a few steps to segment regions of interest in a bone,\n"
     ]
    }
   ],
   "source": [
    "print(\"Pregunta:\", question3)\n",
    "print(\"Respuesta:\", answer_question(question3, corpus3))"
   ]
  },
  {
   "cell_type": "code",
   "execution_count": 10,
   "id": "246939d6-129d-472f-bfb5-79f5b010428d",
   "metadata": {},
   "outputs": [
    {
     "name": "stdout",
     "output_type": "stream",
     "text": [
      "Pregunta: What is Landmark Detection?\n",
      "Respuesta: what is landmark detection? the mechanism of detecting the famous human - made sculptures, buildings, and monuments inside an image is defined as landmark detection. you can simply compare it with the famous application of google known as google landmark detection, which is used by google maps. at the end of this blog, you will be able to create your own landmark detector\n"
     ]
    }
   ],
   "source": [
    "print(\"Pregunta:\", question4)\n",
    "print(\"Respuesta:\", answer_question(question4, corpus4))"
   ]
  },
  {
   "cell_type": "code",
   "execution_count": 11,
   "id": "cef7888d-a291-40b2-b9cd-038590bc57d5",
   "metadata": {},
   "outputs": [
    {
     "name": "stdout",
     "output_type": "stream",
     "text": [
      "Pregunta: Why do traditional segmentation methods often fall short?\n",
      "Respuesta: echocardiography is often used clinically for appraising cardiac morphology and function. for example, the ejection fraction ( ef ) of the left ventricle ( lv ) is one of the famous clinical indices to quantify the lv systolic function. the lvef can be calculated by the volume of the left ventricle. the width of the left ventricular myocardium also contains pathological information. the exact segmentation of the left ventricle endocardium ( lvendo ) and the left ventricle epicardium ( lvepi ) provides the clinical quantitative measures mentioned above. however, manual echocardiography labeling requires a doctor with rich clinical expertise to spend a lot of time,\n"
     ]
    }
   ],
   "source": [
    "print(\"Pregunta:\", question5)\n",
    "print(\"Respuesta:\", answer_question(question5, corpus5))"
   ]
  },
  {
   "cell_type": "code",
   "execution_count": 12,
   "id": "f7035470-67fc-42c9-aaa9-08e051104469",
   "metadata": {},
   "outputs": [
    {
     "name": "stdout",
     "output_type": "stream",
     "text": [
      "Pregunta: What is the primary challenge addressed by unsupervised domain adaptation in echocardiography datasets\n",
      "Respuesta: echocardiography datasets are greatly different from each other in domain styles, such as grayscale distribution. figure 1 shows an example of echocardiography from diverse centers. these images are inconsistent in the gray\n"
     ]
    }
   ],
   "source": [
    "print(\"Pregunta:\", question6)\n",
    "print(\"Respuesta:\", answer_question(question6, corpus6))"
   ]
  },
  {
   "cell_type": "code",
   "execution_count": 13,
   "id": "60ab5ab0-ad6c-4ec2-85f6-4a829de86b02",
   "metadata": {},
   "outputs": [
    {
     "name": "stdout",
     "output_type": "stream",
     "text": [
      "Pregunta: What are the Problems faced in medical image segmentation?\n",
      "Respuesta: image segmentation faces several challenges, including : image variability : diverse image characteristics make creating a universal segmentation algorithm challenging. ambiguity and complexity : complex structures, ambiguous boundaries, and\n"
     ]
    }
   ],
   "source": [
    "print(\"Pregunta:\", question7)\n",
    "print(\"Respuesta:\", answer_question(question7, corpus7))"
   ]
  },
  {
   "cell_type": "code",
   "execution_count": 14,
   "id": "0527b1c9-2bfc-4f43-a46c-48f0c0e0ef25",
   "metadata": {},
   "outputs": [
    {
     "name": "stdout",
     "output_type": "stream",
     "text": [
      "Pregunta: What is an echocardiogram?\n",
      "Respuesta: echocardiogram uses sound waves to create pictures of the heart. this common test can show blood flow through the heart and heart valves. your health care provider can use the pictures from the test to find\n"
     ]
    }
   ],
   "source": [
    "print(\"Pregunta:\", question8)\n",
    "print(\"Respuesta:\", answer_question(question8, corpus8))"
   ]
  },
  {
   "cell_type": "code",
   "execution_count": 15,
   "id": "6352bf9b-43bd-4190-8477-24772facc31c",
   "metadata": {},
   "outputs": [
    {
     "name": "stdout",
     "output_type": "stream",
     "text": [
      "Pregunta: How does Echo-ODE improve cardiac ultrasound video segmentation compared to previous methods?\n",
      "Respuesta: as a registration estimation problem and present a novel method for diffe\n"
     ]
    }
   ],
   "source": [
    "print(\"Pregunta:\", question9)\n",
    "print(\"Respuesta:\", answer_question(question9, corpus9))"
   ]
  },
  {
   "cell_type": "code",
   "execution_count": 16,
   "id": "012fb7ad-4df9-429f-ac46-fd4e291c74f6",
   "metadata": {},
   "outputs": [
    {
     "name": "stdout",
     "output_type": "stream",
     "text": [
      "Pregunta: What is the rationale behind choosing the 17-segment model for echocardiographic examination of the left ventricle?\n",
      "Respuesta: employed in practice, it has an anatomical basis, segments can be easily identified on the basis of obvious echocardiographic landmarks, there is good correspondence with the distribution of coronary arteries,\n"
     ]
    }
   ],
   "source": [
    "print(\"Pregunta:\", question10)\n",
    "print(\"Respuesta:\", answer_question(question10, corpus10))"
   ]
  },
  {
   "cell_type": "markdown",
   "id": "0f9542a1-f2d8-439a-8285-f71d1cf72727",
   "metadata": {},
   "source": [
    "## 4-. Obtenga las respuestas de esas 10 preguntas en español e inglés (recuerden que sólo se entrena una vez, la idea es ver las diferentes respuestas con entradas de diferentes idiomas): "
   ]
  },
  {
   "cell_type": "code",
   "execution_count": 17,
   "id": "cbeeff1d-e052-411b-a1cc-0c528bdc1a61",
   "metadata": {},
   "outputs": [],
   "source": [
    "# Mismas preguntas pero en español\n",
    "question1 = \"¿Qué es la segmentación de imágenes médicas?\"\n",
    "question2 = \"¿Cuáles son las ventajas de la segmentación de imágenes médicas? \"\n",
    "question3 = \"¿Cómo funciona la segmentación de imágenes médicas?\"\n",
    "question4 = \"¿Qué es la detección de puntos de referencia?\"\n",
    "question5 = \"¿Por qué suelen fallar los métodos tradicionales de segmentación?\"\n",
    "question6 = \"¿Cuál es el principal reto que aborda la adaptación de dominios no supervisada en conjuntos de datos de ecocardiografía?\"\n",
    "question7 = \"¿Cuáles son los problemas a los que se enfrenta la segmentación de imágenes médicas?\"\n",
    "question8 = \"¿Qué es un ecocardiograma?\"\n",
    "question9 = \"¿Cómo mejora Echo-ODE la segmentación de vídeos de ecografía cardíaca en comparación con métodos anteriores?\"\n",
    "question10 = \"¿Cuál es el fundamento de la elección del modelo de 17 segmentos para el examen ecocardiográfico del ventrículo izquierdo?\""
   ]
  },
  {
   "cell_type": "code",
   "execution_count": 18,
   "id": "3cee992e-2fae-4950-9097-75662a05657d",
   "metadata": {},
   "outputs": [
    {
     "name": "stdout",
     "output_type": "stream",
     "text": [
      "Pregunta: ¿Qué es la segmentación de imágenes médicas?\n",
      "Respuesta: \n"
     ]
    }
   ],
   "source": [
    "print(\"Pregunta:\", question1)\n",
    "print(\"Respuesta:\", answer_question(question1, corpus1))"
   ]
  },
  {
   "cell_type": "code",
   "execution_count": 19,
   "id": "9c0ca82b-5869-45ed-a66e-6e6c5d7b8fd8",
   "metadata": {},
   "outputs": [
    {
     "name": "stdout",
     "output_type": "stream",
     "text": [
      "Pregunta: ¿Cuáles son las ventajas de la segmentación de imágenes médicas? \n",
      "Respuesta: \n"
     ]
    }
   ],
   "source": [
    "print(\"Pregunta:\", question2)\n",
    "print(\"Respuesta:\", answer_question(question2, corpus2))"
   ]
  },
  {
   "cell_type": "code",
   "execution_count": 20,
   "id": "b51b20e2-b683-4521-92a4-2dbf4e8feabe",
   "metadata": {},
   "outputs": [
    {
     "name": "stdout",
     "output_type": "stream",
     "text": [
      "Pregunta: ¿Cómo funciona la segmentación de imágenes médicas?\n",
      "Respuesta: manual options to paint on the data,\n"
     ]
    }
   ],
   "source": [
    "print(\"Pregunta:\", question3)\n",
    "print(\"Respuesta:\", answer_question(question3, corpus3))"
   ]
  },
  {
   "cell_type": "code",
   "execution_count": 21,
   "id": "95c53591-ca6e-4689-a3ba-22fdc2d77a49",
   "metadata": {},
   "outputs": [
    {
     "name": "stdout",
     "output_type": "stream",
     "text": [
      "Pregunta: ¿Qué es la detección de puntos de referencia?\n",
      "Respuesta: \n"
     ]
    }
   ],
   "source": [
    "print(\"Pregunta:\", question4)\n",
    "print(\"Respuesta:\", answer_question(question4, corpus4))"
   ]
  },
  {
   "cell_type": "code",
   "execution_count": 22,
   "id": "03c5120d-49a2-4323-a31f-54206058b4f3",
   "metadata": {},
   "outputs": [
    {
     "name": "stdout",
     "output_type": "stream",
     "text": [
      "Pregunta: ¿Por qué suelen fallar los métodos tradicionales de segmentación?\n",
      "Respuesta: \n"
     ]
    }
   ],
   "source": [
    "print(\"Pregunta:\", question5)\n",
    "print(\"Respuesta:\", answer_question(question5, corpus5))"
   ]
  },
  {
   "cell_type": "code",
   "execution_count": 23,
   "id": "4657c6f2-3d98-4380-8915-8eef89b88d96",
   "metadata": {},
   "outputs": [
    {
     "name": "stdout",
     "output_type": "stream",
     "text": [
      "Pregunta: ¿Cuál es el principal reto que aborda la adaptación de dominios no supervisada en conjuntos de datos de ecocardiografía?\n",
      "Respuesta: ##grafia? as a result of the diverse imaging devices and imaging protocols, echocardiography datasets are greatly different from each other in domain styles, such as grayscale distribution. figure 1 shows an example of echocardiography from diverse centers. these images are inconsistent in the gray\n"
     ]
    }
   ],
   "source": [
    "print(\"Pregunta:\", question6)\n",
    "print(\"Respuesta:\", answer_question(question6, corpus6))"
   ]
  },
  {
   "cell_type": "code",
   "execution_count": 24,
   "id": "0927a667-4653-41e1-8c23-e54cc2f6b12e",
   "metadata": {},
   "outputs": [
    {
     "name": "stdout",
     "output_type": "stream",
     "text": [
      "Pregunta: ¿Cuáles son los problemas a los que se enfrenta la segmentación de imágenes médicas?\n",
      "Respuesta: ¿ cuales son los problemas a los que se enfrenta la segmentacion de imagenes medicas? medical image segmentation faces several challenges, including : image variability : diverse image characteristics make creating a universal segmentation algorithm challenging. ambiguity and complexity : complex structures, ambiguous boundaries, and\n"
     ]
    }
   ],
   "source": [
    "print(\"Pregunta:\", question7)\n",
    "print(\"Respuesta:\", answer_question(question7, corpus7))"
   ]
  },
  {
   "cell_type": "code",
   "execution_count": 25,
   "id": "f5f37744-77fb-4c53-98a7-c6044978da07",
   "metadata": {},
   "outputs": [
    {
     "name": "stdout",
     "output_type": "stream",
     "text": [
      "Pregunta: ¿Qué es un ecocardiograma?\n",
      "Respuesta: echocardiogram uses sound waves to create pictures of the heart. this common test can show blood flow through the heart and heart valves. your health care provider can use the pictures from the test to find\n"
     ]
    }
   ],
   "source": [
    "print(\"Pregunta:\", question8)\n",
    "print(\"Respuesta:\", answer_question(question8, corpus8))"
   ]
  },
  {
   "cell_type": "code",
   "execution_count": 26,
   "id": "528c631f-a81d-4cb5-9aee-50eef60ade60",
   "metadata": {},
   "outputs": [
    {
     "name": "stdout",
     "output_type": "stream",
     "text": [
      "Pregunta: ¿Cómo mejora Echo-ODE la segmentación de vídeos de ecografía cardíaca en comparación con métodos anteriores?\n",
      "Respuesta: \n"
     ]
    }
   ],
   "source": [
    "print(\"Pregunta:\", question9)\n",
    "print(\"Respuesta:\", answer_question(question9, corpus9))"
   ]
  },
  {
   "cell_type": "code",
   "execution_count": 27,
   "id": "c15a09d4-3535-4c18-ac0c-9d2d80f5ccd7",
   "metadata": {},
   "outputs": [
    {
     "name": "stdout",
     "output_type": "stream",
     "text": [
      "Pregunta: ¿Cuál es el fundamento de la elección del modelo de 17 segmentos para el examen ecocardiográfico del ventrículo izquierdo?\n",
      "Respuesta: \n"
     ]
    }
   ],
   "source": [
    "print(\"Pregunta:\", question10)\n",
    "print(\"Respuesta:\", answer_question(question10, corpus10))"
   ]
  },
  {
   "cell_type": "markdown",
   "id": "53b6be50-0ecd-473e-b0e9-d98510cf3a31",
   "metadata": {},
   "source": [
    "- ¿Hubo alguna diferencia?\n",
    "\n",
    "Después de hacer diversas experimentaciones con el código, logramos ver que las preguntas en español las contestaba un tanto acorde a lo que se preguntaba, pero no tan conciso y realmente no sabemos si debiamos esperar que también pudiese responder en español mientras que las preguntas en inglés algunas dejo la respuesta en blanco otras si tenian coherencia. Cabe recalcar que si nosotros corriamos de nuevo la pregunta ya sea en español o inglés a veces la podía responder. Nuestra deducción es que tras una vez se hizo la pregunta la proxima vez que se le preguntó lo mismo fue capaz de mejorar la interpretación de la misma y asi mismo su capacidad de dar una respuesta.\n",
    "- ¿Qué lenguaje conviene más y por qué?\n",
    "\n",
    "Creo que todo depende del idioma del corpus, en el sentido, que si el idioma de las preguntas estan más allegadas al idioma del corpus su entendimiento será más conveniente y rápido entorno a su capacidad de respuesta.\n",
    "- ¿Cuál era el tamaño del corpus?\n",
    "\n",
    "Al principio quisimos intentar con un corpus largo, pero el programa nos arrojaba un error que estaba limitado a los 512 tokens entonces relativamente nuestros corpus se tuvieron que adaptar a los tokens limite. \n",
    "- ¿Cuántas respuestas tienen coherencia?\n",
    "\n",
    "En inglés el número fue de ocho respuesta coherentes, no obstante, no estaban completadas. Aunque se entendia que quiso dar el acercamiento a la mejor respuesta se corto sin sentido. Mientras que las preguntas en español 3 de las 10 tuvieron coherencia, aqui el único detalle como ya se menciono antes es que sus respuestas estaban en inglés.\n",
    "- ¿Si cambia el corpus y pregunta lo mismo recibirá una respuesta? Demuestre"
   ]
  },
  {
   "cell_type": "code",
   "execution_count": 28,
   "id": "8cdb9765-97f6-46b7-b109-8ad331fd2723",
   "metadata": {},
   "outputs": [
    {
     "name": "stdout",
     "output_type": "stream",
     "text": [
      "Pregunta: ¿Qué es la segmentación de imágenes médicas?\n",
      "Respuesta: image is defined as landmark detection. you can simply compare it with the famous application of google known as google landmark detection\n"
     ]
    }
   ],
   "source": [
    "print(\"Pregunta:\", question1)\n",
    "print(\"Respuesta:\", answer_question(question1, corpus4))"
   ]
  },
  {
   "cell_type": "markdown",
   "id": "3e97aebf-a48f-4e75-b559-936196b5726d",
   "metadata": {},
   "source": [
    "La respuesta es si, habra una respuesta pero no tendrá nada que ver con la pregunta hecha. A lo que vemos es que toma al menos una parte de la pregunta que entiende y con base a eso trata de dar una respuesta.\n",
    "- ¿Cuántos lenguajes puede manejar el BERT para resolver preguntas?\n",
    "\n",
    "Más de 100 diferentes lenguajes."
   ]
  }
 ],
 "metadata": {
  "kernelspec": {
   "display_name": "Python (GPU)",
   "language": "python",
   "name": "gpu_env"
  },
  "language_info": {
   "codemirror_mode": {
    "name": "ipython",
    "version": 3
   },
   "file_extension": ".py",
   "mimetype": "text/x-python",
   "name": "python",
   "nbconvert_exporter": "python",
   "pygments_lexer": "ipython3",
   "version": "3.8.18"
  }
 },
 "nbformat": 4,
 "nbformat_minor": 5
}
